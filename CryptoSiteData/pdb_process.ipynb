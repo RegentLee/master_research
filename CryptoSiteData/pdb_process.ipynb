{
 "cells": [
  {
   "cell_type": "code",
   "execution_count": 1,
   "metadata": {},
   "outputs": [],
   "source": [
    "import os\n",
    "from Bio import PDB"
   ]
  },
  {
   "cell_type": "code",
   "execution_count": 2,
   "metadata": {},
   "outputs": [],
   "source": [
    "class SelectChains(PDB.Select):\n",
    "    \"\"\" Only accept the specified chains when saving. \"\"\"\n",
    "    def __init__(self, chain_letters):\n",
    "        self.chain_letters = chain_letters\n",
    "\n",
    "    def accept_chain(self, chain):\n",
    "        return (chain.get_id() in self.chain_letters)"
   ]
  },
  {
   "cell_type": "code",
   "execution_count": 177,
   "metadata": {},
   "outputs": [],
   "source": [
    "data_root = 'train/'\n",
    "data_n = '80'\n",
    "pdb_name = '1za1'\n",
    "chain = 'D'\n",
    "\n",
    "data = data_root + data_n + '/' + pdb_name + '.pdb'\n",
    "out_path = data_root + data_n + '/' + pdb_name + chain + '.pdb'"
   ]
  },
  {
   "cell_type": "code",
   "execution_count": 178,
   "metadata": {},
   "outputs": [
    {
     "name": "stderr",
     "output_type": "stream",
     "text": [
      "/Users/leemingyeh/miniconda3/envs/bio/lib/python3.9/site-packages/Bio/PDB/StructureBuilder.py:89: PDBConstructionWarning: WARNING: Chain B is discontinuous at line 7856.\n",
      "  warnings.warn(\n",
      "/Users/leemingyeh/miniconda3/envs/bio/lib/python3.9/site-packages/Bio/PDB/StructureBuilder.py:89: PDBConstructionWarning: WARNING: Chain D is discontinuous at line 7886.\n",
      "  warnings.warn(\n",
      "/Users/leemingyeh/miniconda3/envs/bio/lib/python3.9/site-packages/Bio/PDB/StructureBuilder.py:89: PDBConstructionWarning: WARNING: Chain A is discontinuous at line 7916.\n",
      "  warnings.warn(\n",
      "/Users/leemingyeh/miniconda3/envs/bio/lib/python3.9/site-packages/Bio/PDB/StructureBuilder.py:89: PDBConstructionWarning: WARNING: Chain B is discontinuous at line 8105.\n",
      "  warnings.warn(\n",
      "/Users/leemingyeh/miniconda3/envs/bio/lib/python3.9/site-packages/Bio/PDB/StructureBuilder.py:89: PDBConstructionWarning: WARNING: Chain C is discontinuous at line 8197.\n",
      "  warnings.warn(\n",
      "/Users/leemingyeh/miniconda3/envs/bio/lib/python3.9/site-packages/Bio/PDB/StructureBuilder.py:89: PDBConstructionWarning: WARNING: Chain D is discontinuous at line 8434.\n",
      "  warnings.warn(\n"
     ]
    }
   ],
   "source": [
    "parser = PDB.PDBParser()\n",
    "structure = parser.get_structure(pdb_name, data)\n",
    "io=PDB.PDBIO()\n",
    "io.set_structure(structure)\n",
    "io.save(out_path, select=SelectChains(chain))\n"
   ]
  },
  {
   "cell_type": "code",
   "execution_count": 99,
   "metadata": {},
   "outputs": [
    {
     "data": {
      "text/plain": [
       "0"
      ]
     },
     "execution_count": 99,
     "metadata": {},
     "output_type": "execute_result"
    }
   ],
   "source": [
    "path = data_root + 'apo_' + data_n + '.pdb'\n",
    "\n",
    "command = 'cp ' + out_path + ' ' + path\n",
    "os.system(command)"
   ]
  },
  {
   "cell_type": "code",
   "execution_count": 102,
   "metadata": {},
   "outputs": [
    {
     "data": {
      "text/plain": [
       "0"
      ]
     },
     "execution_count": 102,
     "metadata": {},
     "output_type": "execute_result"
    }
   ],
   "source": [
    "path = data_root + 'holo_' + data_n + '.pdb'\n",
    "\n",
    "command = 'cp ' + out_path + ' ' + path\n",
    "os.system(command)"
   ]
  }
 ],
 "metadata": {
  "interpreter": {
   "hash": "c0dcb32fd1f170741dd9ea40dd8cb1c1b2a4f48d6dd933b63512c43ac3728f15"
  },
  "kernelspec": {
   "display_name": "Python 3.9.6 64-bit ('env': conda)",
   "language": "python",
   "name": "python3"
  },
  "language_info": {
   "codemirror_mode": {
    "name": "ipython",
    "version": 3
   },
   "file_extension": ".py",
   "mimetype": "text/x-python",
   "name": "python",
   "nbconvert_exporter": "python",
   "pygments_lexer": "ipython3",
   "version": "3.9.7"
  },
  "orig_nbformat": 4
 },
 "nbformat": 4,
 "nbformat_minor": 2
}
